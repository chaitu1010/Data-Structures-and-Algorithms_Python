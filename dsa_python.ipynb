{
 "cells": [
  {
   "attachments": {},
   "cell_type": "markdown",
   "metadata": {},
   "source": [
    "Classes in python"
   ]
  },
  {
   "cell_type": "code",
   "execution_count": 5,
   "metadata": {},
   "outputs": [
    {
     "name": "stdout",
     "output_type": "stream",
     "text": [
      "green,blue\n"
     ]
    }
   ],
   "source": [
    "class Cookie:\n",
    "    def __init__(self,color):\n",
    "        self.color = color\n",
    "    def get_color(self):\n",
    "        return self.color\n",
    "    def set_color(self, color):\n",
    "        self.color = color\n",
    "\n",
    "cookie_one = Cookie('green')\n",
    "cookie_two = Cookie('blue')\n",
    "\n",
    "print(cookie_one.get_color()+','+ cookie_two.get_color())"
   ]
  },
  {
   "cell_type": "code",
   "execution_count": 6,
   "metadata": {},
   "outputs": [
    {
     "name": "stdout",
     "output_type": "stream",
     "text": [
      "Yellow,blue\n"
     ]
    }
   ],
   "source": [
    "cookie_one.set_color('Yellow')\n",
    "print(cookie_one.get_color()+','+ cookie_two.get_color())"
   ]
  },
  {
   "attachments": {},
   "cell_type": "markdown",
   "metadata": {},
   "source": [
    "Pointers\n"
   ]
  },
  {
   "cell_type": "code",
   "execution_count": 7,
   "metadata": {},
   "outputs": [
    {
     "name": "stdout",
     "output_type": "stream",
     "text": [
      "Before num2 value is updated: \n",
      "num1 =  11\n",
      "num2 =  11\n",
      "num1 id =  1863240084080\n",
      "num2 id =  1863240084080\n"
     ]
    }
   ],
   "source": [
    "num1 = 11\n",
    "num2 = num1\n",
    "print('Before num2 value is updated: ')\n",
    "print('num1 = ', num1)\n",
    "print('num2 = ', num2)\n",
    "print('num1 id = ', id(num1))\n",
    "print('num2 id = ', id(num2))\n"
   ]
  },
  {
   "cell_type": "code",
   "execution_count": 8,
   "metadata": {},
   "outputs": [
    {
     "name": "stdout",
     "output_type": "stream",
     "text": [
      "num1 =  11\n",
      "num2 =  22\n",
      "num1 id =  1863240084080\n",
      "num2 id =  1863240084432\n"
     ]
    }
   ],
   "source": [
    "num2 = 22\n",
    "print('num1 = ', num1)\n",
    "print('num2 = ', num2)\n",
    "print('num1 id = ', id(num1))\n",
    "print('num2 id = ', id(num2))"
   ]
  },
  {
   "cell_type": "code",
   "execution_count": 9,
   "metadata": {},
   "outputs": [
    {
     "name": "stdout",
     "output_type": "stream",
     "text": [
      "dict1 =  {'value': 11}\n",
      "dict2 =  {'value': 11}\n",
      "dict1 id =  1863324994944\n",
      "dict2 id =  1863324994944\n"
     ]
    }
   ],
   "source": [
    "dict1 = { 'value' : 11}\n",
    "dict2 = dict1\n",
    "print('dict1 = ', dict1)\n",
    "print('dict2 = ', dict2)\n",
    "print('dict1 id = ', id(dict1))\n",
    "print('dict2 id = ', id(dict2))"
   ]
  },
  {
   "cell_type": "code",
   "execution_count": 10,
   "metadata": {},
   "outputs": [
    {
     "name": "stdout",
     "output_type": "stream",
     "text": [
      "dict1 =  {'value': 22}\n",
      "dict2 =  {'value': 22}\n",
      "dict1 id =  1863324994944\n",
      "dict2 id =  1863324994944\n"
     ]
    }
   ],
   "source": [
    "dict2['value'] = 22\n",
    "print('dict1 = ', dict1)\n",
    "print('dict2 = ', dict2)\n",
    "print('dict1 id = ', id(dict1))\n",
    "print('dict2 id = ', id(dict2))"
   ]
  },
  {
   "attachments": {},
   "cell_type": "markdown",
   "metadata": {},
   "source": [
    "Linked List"
   ]
  },
  {
   "attachments": {},
   "cell_type": "markdown",
   "metadata": {},
   "source": [
    "This is kind of linked list but not exactly linked list"
   ]
  },
  {
   "cell_type": "code",
   "execution_count": 11,
   "metadata": {},
   "outputs": [
    {
     "name": "stdout",
     "output_type": "stream",
     "text": [
      "23\n"
     ]
    }
   ],
   "source": [
    "head = { \n",
    "           'value': 11, 'next': {\n",
    "                                  'value': 3, 'next': {\n",
    "                                                        'value': 23, 'next': {\n",
    "                                                                               'value': 7, 'next': None} }}}\n",
    "print(head['next']['next']['value'])"
   ]
  },
  {
   "attachments": {},
   "cell_type": "markdown",
   "metadata": {},
   "source": [
    "For linked list \n",
    "print(my_linked_list.head.next.next.value)"
   ]
  },
  {
   "attachments": {},
   "cell_type": "markdown",
   "metadata": {},
   "source": [
    "Constructor for linked list"
   ]
  },
  {
   "cell_type": "code",
   "execution_count": 12,
   "metadata": {},
   "outputs": [
    {
     "name": "stdout",
     "output_type": "stream",
     "text": [
      "4\n"
     ]
    }
   ],
   "source": [
    "class Node:\n",
    "    def __init__(self, value):\n",
    "        self.value = value\n",
    "        self.next = None\n",
    "\n",
    "class LinkedList:\n",
    "    def __init__(self, value):\n",
    "        new_node = Node(value)\n",
    "        self.head = new_node\n",
    "        self.tail = new_node\n",
    "        self.length = 1\n",
    "\n",
    "ll1 = LinkedList(4)\n",
    "print(ll1.head.value)"
   ]
  },
  {
   "cell_type": "code",
   "execution_count": 13,
   "metadata": {},
   "outputs": [
    {
     "name": "stdout",
     "output_type": "stream",
     "text": [
      "4\n",
      "1\n"
     ]
    }
   ],
   "source": [
    "print(ll1.tail.value)\n",
    "print(ll1.length)"
   ]
  },
  {
   "cell_type": "code",
   "execution_count": 14,
   "metadata": {},
   "outputs": [],
   "source": [
    "class LinkedList:\n",
    "    def __init__(self, value):\n",
    "        new_node = Node(value)\n",
    "        self.head = new_node\n",
    "        self.tail = new_node\n",
    "        self.length = 1\n",
    "    \n",
    "    def print_list(self):\n",
    "        temp = self.head\n",
    "        while temp is not None:\n",
    "            print(temp.value)\n",
    "            temp = temp.next\n",
    "    \n",
    "    def append(self, value):\n",
    "        new_node = Node(value)\n",
    "        if self.length == 0:\n",
    "            self.head = new_node\n",
    "            self.tail = new_node\n",
    "        else:\n",
    "            self.tail.next = new_node\n",
    "            self.tail = new_node\n",
    "        self.length += 1\n",
    "        return True\n",
    "    def pop(self):\n",
    "        if self.length == 0:\n",
    "            return None\n",
    "        temp = self.head\n",
    "        pre = self.head\n",
    "        while(temp.next is not None): #we can also just write temp.next in the while loop condition \n",
    "            pre = temp\n",
    "            temp = temp.next\n",
    "        self.tail = pre\n",
    "        self.tail.next = None\n",
    "        self.length -= 1\n",
    "        if self.length == 0:\n",
    "            self.head = None\n",
    "            self.tail = None\n",
    "        return temp\n",
    "    def prepend(self,value):\n",
    "        new_node = Node(value)\n",
    "        if self.length == 0:\n",
    "            self.head = new_node\n",
    "            self.tail = new_node\n",
    "        else:\n",
    "            new_node.next = self.head\n",
    "            self.head = new_node\n",
    "        self.length += 1\n",
    "        return True\n",
    "    def pop_first(self):\n",
    "        if self.length == 0:\n",
    "            return None\n",
    "        temp = self.head\n",
    "        self.head = self.head.next\n",
    "        temp.next = None\n",
    "        self.length -= 1\n",
    "        if self.length == 0:\n",
    "            self.tail = None\n",
    "        return temp # we can write temp.value also\n",
    "    def get(self, index):\n",
    "        if index < 0 or index >= self.length:\n",
    "            return None\n",
    "        temp = self.head\n",
    "        for _ in range(index): #generally we use i in for loop but if we dont use that i anywhere in for looop we can replace it with _\n",
    "            temp = temp.next\n",
    "        return temp # we can use temp.value to get the value of the node\n",
    "    def set_value(self, index, value):\n",
    "        temp = self.get(index)\n",
    "        if temp: #alternate for temp is not None\n",
    "            temp.value = value\n",
    "            return True\n",
    "        return False\n",
    "    def insert(self, index, value):\n",
    "        if index < 0 or index > self.length:\n",
    "            return False\n",
    "        if index == 0:\n",
    "            return self.prepend(value)\n",
    "        if index == self.length:\n",
    "            return self.append(value)\n",
    "        new_node = Node(value)\n",
    "        temp = self.get(index - 1)\n",
    "        new_node.next = temp.next\n",
    "        temp.next = new_node\n",
    "        self.length += 1\n",
    "        return True\n",
    "    def remove(self, index):\n",
    "        if index < 0 or index >= self.length:\n",
    "            return None\n",
    "        if index == 0:\n",
    "            return self.pop_first()\n",
    "        if index == self.length - 1 :\n",
    "            return self .pop()\n",
    "        prev = self.get(index -1)\n",
    "        temp = prev.next\n",
    "        prev.next = temp.next\n",
    "        temp.next = None\n",
    "        self.length -= 1\n",
    "        return temp\n",
    "    def reverse(self):\n",
    "        temp = self.head\n",
    "        self.head = self.tail\n",
    "        self.tail = temp\n",
    "        after = temp.next \n",
    "        before = None\n",
    "        for _ in range(self.length):\n",
    "            after = temp.next\n",
    "            temp.next = before\n",
    "            before = temp\n",
    "            temp = after\n",
    "    def find_middle_node(self):\n",
    "        temp = self.head\n",
    "        pre = self.head\n",
    "        while ((temp is not None) and (temp.next is not None)):\n",
    "            pre = pre.next\n",
    "            temp = temp.next.next\n",
    "        return pre\n",
    "    def has_loop(self):\n",
    "        slow = self.head\n",
    "        fast = self.head\n",
    "        while fast is not None and fast.next is not None:\n",
    "            slow = slow.next\n",
    "            fast = fast.next.next\n",
    "            if fast == slow:\n",
    "                return True\n",
    "            return False\n",
    "    def reverse_between(self, m, n):\n",
    "        if self.length <= 1:\n",
    "            return\n",
    "    \n",
    "        dummy = Node(0)\n",
    "        dummy.next = self.head\n",
    "        prev = dummy\n",
    "    \n",
    "        for i in range(m):\n",
    "            prev = prev.next\n",
    "    \n",
    "        current = prev.next\n",
    "    \n",
    "        for i in range(n - m):\n",
    "            temp = current.next\n",
    "            current.next = temp.next\n",
    "            temp.next = prev.next\n",
    "            prev.next = temp\n",
    "    \n",
    "        self.head = dummy.next\n",
    "        \n",
    "    def partition_list(self, x):\n",
    "        if not self.head:\n",
    "            return None\n",
    "    \n",
    "        dummy1 = Node(0)\n",
    "        dummy2 = Node(0)\n",
    "        prev1 = dummy1\n",
    "        prev2 = dummy2\n",
    "        current = self.head\n",
    "    \n",
    "        while current:\n",
    "            if current.value < x:\n",
    "                prev1.next = current\n",
    "                prev1 = current\n",
    "            else:\n",
    "                prev2.next = current\n",
    "                prev2 = current\n",
    "            current = current.next\n",
    "    \n",
    "        prev1.next = None\n",
    "        prev2.next = None\n",
    "        prev1.next = dummy2.next\n",
    "    \n",
    "        self.head = dummy1.next\n",
    "    def remove_duplicates(self):\n",
    "            values = set()\n",
    "            previous = None\n",
    "            current = self.head\n",
    "            while current:\n",
    "                if current.value in values:\n",
    "                    previous.next = current.next\n",
    "                    self.length -= 1\n",
    "                else:\n",
    "                    values.add(current.value)\n",
    "                    previous = current\n",
    "                current = current.next"
   ]
  },
  {
   "cell_type": "code",
   "execution_count": 15,
   "metadata": {},
   "outputs": [],
   "source": [
    "# def remove_duplicates(self): # without set o(n^2)\n",
    "#         current = self.head\n",
    "#         while current:\n",
    "#             runner = current\n",
    "#             while runner.next:\n",
    "#                 if runner.next.value == current.value:\n",
    "#                     runner.next = runner.next.next\n",
    "#                     self.length -= 1\n",
    "#                 else:\n",
    "#                     runner = runner.next\n",
    "#             current = current.next"
   ]
  },
  {
   "cell_type": "code",
   "execution_count": 16,
   "metadata": {},
   "outputs": [
    {
     "name": "stdout",
     "output_type": "stream",
     "text": [
      "1\n",
      "2\n",
      "<__main__.Node object at 0x000001B1D6CF4700>\n",
      "<__main__.Node object at 0x000001B1D6CF4EB0>\n",
      "None\n"
     ]
    }
   ],
   "source": [
    "ll2 = LinkedList(1)\n",
    "ll2.append(2)\n",
    "ll2.print_list()\n",
    "print(ll2.pop())\n",
    "print(ll2.pop())\n",
    "print(ll2.pop())"
   ]
  },
  {
   "cell_type": "code",
   "execution_count": 17,
   "metadata": {},
   "outputs": [
    {
     "name": "stdout",
     "output_type": "stream",
     "text": [
      "2\n",
      "3\n",
      "\n",
      "\n",
      "1\n",
      "2\n",
      "3\n"
     ]
    }
   ],
   "source": [
    "ll = LinkedList(2)\n",
    "ll.append(3)\n",
    "ll.print_list()\n",
    "print('\\n')\n",
    "ll.prepend(1)\n",
    "ll.print_list()"
   ]
  },
  {
   "cell_type": "code",
   "execution_count": 18,
   "metadata": {},
   "outputs": [
    {
     "name": "stdout",
     "output_type": "stream",
     "text": [
      "2\n",
      "1\n",
      "\n",
      "\n",
      "<__main__.Node object at 0x000001B1D6CF47C0>\n",
      "<__main__.Node object at 0x000001B1D6CF46D0>\n",
      "None\n"
     ]
    }
   ],
   "source": [
    "ll = LinkedList(2)\n",
    "ll.append(1)\n",
    "ll.print_list()\n",
    "print('\\n')\n",
    "print(ll.pop_first())\n",
    "print(ll.pop_first())\n",
    "print(ll.pop_first())"
   ]
  },
  {
   "cell_type": "code",
   "execution_count": 19,
   "metadata": {},
   "outputs": [
    {
     "name": "stdout",
     "output_type": "stream",
     "text": [
      "<__main__.Node object at 0x000001B1D6CF4580>\n"
     ]
    }
   ],
   "source": [
    "ll = LinkedList(0)\n",
    "ll.append(1)\n",
    "ll.append(2)\n",
    "ll.append(3)\n",
    "print(ll.get(2))"
   ]
  },
  {
   "cell_type": "code",
   "execution_count": 20,
   "metadata": {},
   "outputs": [
    {
     "name": "stdout",
     "output_type": "stream",
     "text": [
      "11\n",
      "4\n",
      "23\n",
      "7\n"
     ]
    }
   ],
   "source": [
    "ll = LinkedList(11)\n",
    "ll.append(3)\n",
    "ll.append(23)\n",
    "ll.append(7)\n",
    "ll.set_value(1,4)\n",
    "ll.print_list()"
   ]
  },
  {
   "cell_type": "code",
   "execution_count": 21,
   "metadata": {},
   "outputs": [
    {
     "name": "stdout",
     "output_type": "stream",
     "text": [
      "0\n",
      "1\n",
      "2\n"
     ]
    }
   ],
   "source": [
    "ll = LinkedList(0)\n",
    "ll.append(2)\n",
    "ll.insert(1,1)\n",
    "ll.print_list()"
   ]
  },
  {
   "cell_type": "code",
   "execution_count": 22,
   "metadata": {},
   "outputs": [
    {
     "name": "stdout",
     "output_type": "stream",
     "text": [
      "<__main__.Node object at 0x000001B1D6B9A040> \n",
      "\n",
      "11\n",
      "3\n",
      "7\n"
     ]
    }
   ],
   "source": [
    "ll = LinkedList(11)\n",
    "ll.append(3)\n",
    "ll.append(23)\n",
    "ll.append(7)\n",
    "print(ll.remove(2), '\\n')\n",
    "ll.print_list()"
   ]
  },
  {
   "cell_type": "code",
   "execution_count": 23,
   "metadata": {},
   "outputs": [
    {
     "name": "stdout",
     "output_type": "stream",
     "text": [
      "5\n",
      "4\n",
      "3\n",
      "2\n",
      "1\n"
     ]
    },
    {
     "data": {
      "text/plain": [
       "False"
      ]
     },
     "execution_count": 23,
     "metadata": {},
     "output_type": "execute_result"
    }
   ],
   "source": [
    "ll = LinkedList(1)\n",
    "ll.append(2)\n",
    "ll.append(3)\n",
    "ll.append(4)\n",
    "ll.append(5)\n",
    "ll.reverse()\n",
    "ll.print_list()\n",
    "ll.find_middle_node()\n",
    "ll.has_loop()"
   ]
  },
  {
   "cell_type": "code",
   "execution_count": 24,
   "metadata": {},
   "outputs": [],
   "source": [
    "def find_kth_from_end(ll,k):\n",
    "        fast = ll.head\n",
    "        slow = ll.head\n",
    "        for _ in range(k):\n",
    "            if fast == None:\n",
    "                return None\n",
    "            fast = fast.next\n",
    "        while fast:\n",
    "            slow = slow.next\n",
    "            fast = fast.next\n",
    "        return slow"
   ]
  },
  {
   "cell_type": "code",
   "execution_count": 25,
   "metadata": {},
   "outputs": [
    {
     "name": "stdout",
     "output_type": "stream",
     "text": [
      "4\n"
     ]
    }
   ],
   "source": [
    "my_linked_list = LinkedList(1)\n",
    "my_linked_list.append(2)\n",
    "my_linked_list.append(3)\n",
    "my_linked_list.append(4)\n",
    "my_linked_list.append(5)\n",
    "\n",
    "\n",
    "k = 2\n",
    "result = find_kth_from_end(my_linked_list,2)\n",
    "\n",
    "print(result.value)"
   ]
  },
  {
   "attachments": {},
   "cell_type": "markdown",
   "metadata": {},
   "source": [
    "Doubly Linked List"
   ]
  },
  {
   "cell_type": "code",
   "execution_count": 26,
   "metadata": {},
   "outputs": [],
   "source": [
    "import math\n",
    "class Node:\n",
    "    def __init__(self,value):\n",
    "        self.value = value\n",
    "        self.next = None\n",
    "        self.prev = None"
   ]
  },
  {
   "cell_type": "code",
   "execution_count": 27,
   "metadata": {},
   "outputs": [],
   "source": [
    "class DoublyLinkedList:\n",
    "    def __init__(self, value):\n",
    "        new_node = Node(value)\n",
    "        self.head = new_node\n",
    "        self.tail = new_node\n",
    "        self.length = 1\n",
    "    def print_list(self):\n",
    "        temp = self.head\n",
    "        while temp is not None:\n",
    "            print(temp.value)\n",
    "            temp = temp.next\n",
    "    def append(self,value):\n",
    "        new_node = Node(value)\n",
    "        if self.head is None:\n",
    "            self.head = new_node\n",
    "            self.tail = new_node\n",
    "        else:\n",
    "            self.tail.next = new_node\n",
    "            new_node.prev = self.tail\n",
    "            self.tail = new_node\n",
    "        self.length += 1\n",
    "        return True\n",
    "    def pop(self):\n",
    "        if self.length == 0:\n",
    "            return None\n",
    "        temp = self.tail\n",
    "        if self.length == 1:\n",
    "            self.head = None\n",
    "            self.tail = None\n",
    "        else:\n",
    "            self.tail = self.tail.prev\n",
    "            self.tail.next = None\n",
    "            temp.prev = None\n",
    "        self.length -= 1\n",
    "        return temp\n",
    "    def prepend(self,value):\n",
    "        new_node = Node(value)\n",
    "        if self.length == 0:\n",
    "            self.head = new_node\n",
    "            self.tail = new_node\n",
    "        else:\n",
    "            self.head.prev = new_node\n",
    "            new_node.next = self.head\n",
    "            self.head = new_node\n",
    "        self.length += 1\n",
    "        return True \n",
    "    def pop_first(self):\n",
    "        if self.length == 0:\n",
    "            return None\n",
    "        temp = self.head\n",
    "        if self.length == 1:\n",
    "            self.head = None\n",
    "            self.tail = None\n",
    "        else:\n",
    "            self.head = temp.next\n",
    "            self.head.prev = None\n",
    "            temp.next = None\n",
    "        self.length -= 1\n",
    "        return temp\n",
    "    def get(self,index):\n",
    "        if index < 0 or index >= self.length:\n",
    "            return None\n",
    "        temp = self.head\n",
    "        if index < self.length/2:\n",
    "            for _ in range(index):\n",
    "                temp = temp.next\n",
    "        else:\n",
    "            temp = self.tail\n",
    "            for _ in range(self.length-1,index,-1):\n",
    "                temp = temp.prev\n",
    "        return temp\n",
    "    def set_value(self,index,value):\n",
    "        temp = self.get(index)\n",
    "        if temp:\n",
    "            temp.value = value\n",
    "            return True\n",
    "        return False      \n",
    "    def insert(self,index,value):\n",
    "        if index < 0 or index > self.length:\n",
    "            return False\n",
    "        elif index == 0:\n",
    "            return self.prepend(value)\n",
    "        elif index == self.length:\n",
    "            return self.append(value)\n",
    "        else:\n",
    "            new_node = Node(value)\n",
    "            before = self.get(index - 1)\n",
    "            after = before.next\n",
    "            new_node.prev = before\n",
    "            new_node.next = after\n",
    "            before.next = new_node\n",
    "            after.prev = new_node\n",
    "        self.length += 1\n",
    "        return True\n",
    "    def remove(self,index):\n",
    "        if index < 0 or index >= self.length:\n",
    "            return False\n",
    "        if index == 0:\n",
    "            return self.pop_first()\n",
    "        if index == self.length - 1:\n",
    "            return self.pop()\n",
    "        temp = self.get(index)\n",
    "        # before = temp.prev\n",
    "        # after = temp.next\n",
    "        # before.next = after\n",
    "        # after.prev = before , this method is also correct\n",
    "        temp.next.prev = temp.prev\n",
    "        temp.prev.next = temp.next\n",
    "        temp.next = None\n",
    "        temp.prev = None\n",
    "        self.length -= 1\n",
    "        return temp\n",
    "    def swap_first_last(self):\n",
    "        a = self.head.value\n",
    "        b = self.tail.value\n",
    "        self.head.value = b\n",
    "        self.tail.value = a\n",
    "    def reverse(self):\n",
    "        temp = self.head\n",
    "        while temp is not None:\n",
    "            # swap the prev and next pointers of node points to\n",
    "            temp.prev, temp.next = temp.next, temp.prev\n",
    "            # like (tuple1, tuple2) = (tuple2, tuple1)\n",
    "            # move to the next node\n",
    "            temp = temp.prev\n",
    "            \n",
    "        # swap the head and tail pointers\n",
    "        self.head, self.tail = self.tail, self.head\n",
    "    def is_palindrome(self):\n",
    "        first = self.head\n",
    "        last = self.tail\n",
    "        i = 0\n",
    "        while (first is not None and last is not None) and (i < math.ceil(self.length/2)):\n",
    "            if first.value != last.value:\n",
    "                return False\n",
    "            else:\n",
    "                first = first.next\n",
    "                last = last.prev\n",
    "            i = i + 1\n",
    "        return True\n",
    "    def swap_pairs(self):\n",
    "    # Create a dummy node to simplify swapping logic\n",
    "        dummy = Node(0)\n",
    "    # Connect the dummy node to the head of the list\n",
    "        dummy.next = self.head\n",
    "    # Set 'prev' to the dummy node for the first iteration\n",
    "        prev = dummy\n",
    " \n",
    "    # Iterate while there are at least two nodes left\n",
    "        while self.head and self.head.next:\n",
    "        # Identify the first node of the pair to swap\n",
    "            first_node = self.head\n",
    "        # Identify the second node of the pair to swap\n",
    "            second_node = self.head.next\n",
    " \n",
    "        # Update 'next' pointers to swap the node pair\n",
    "            prev.next = second_node\n",
    "            first_node.next = second_node.next\n",
    "            second_node.next = first_node\n",
    " \n",
    "        # Update 'prev' pointers for the swapped nodes\n",
    "            second_node.prev = prev\n",
    "            first_node.prev = second_node\n",
    "        # Set the 'prev' of the node after the pair\n",
    "            if first_node.next:\n",
    "                first_node.next.prev = first_node\n",
    " \n",
    "        # Move 'head' to the next pair of nodes\n",
    "            self.head = first_node.next\n",
    "        # Update 'prev' to the last node in the pair\n",
    "            prev = first_node\n",
    " \n",
    "    # Set the new head of the list after swapping\n",
    "        self.head = dummy.next\n",
    "    # Ensure the new head's 'prev' does not point to dummy\n",
    "        if self.head:\n",
    "            self.head.prev = None\n",
    "\n",
    "            \n",
    "        \n",
    "\n",
    "        "
   ]
  },
  {
   "cell_type": "code",
   "execution_count": 28,
   "metadata": {},
   "outputs": [
    {
     "name": "stdout",
     "output_type": "stream",
     "text": [
      "1\n",
      "2\n"
     ]
    }
   ],
   "source": [
    "dll = DoublyLinkedList(1)\n",
    "dll.append(2)\n",
    "dll.print_list()"
   ]
  },
  {
   "cell_type": "code",
   "execution_count": 29,
   "metadata": {},
   "outputs": [
    {
     "name": "stdout",
     "output_type": "stream",
     "text": [
      "<__main__.Node object at 0x000001B1D6D1BBE0>\n",
      "<__main__.Node object at 0x000001B1D6D1BD60>\n",
      "None\n"
     ]
    }
   ],
   "source": [
    "dll = DoublyLinkedList(1)\n",
    "dll.append(2)\n",
    "print(dll.pop())\n",
    "print(dll.pop())\n",
    "print(dll.pop())"
   ]
  },
  {
   "cell_type": "code",
   "execution_count": 30,
   "metadata": {},
   "outputs": [
    {
     "name": "stdout",
     "output_type": "stream",
     "text": [
      "1\n",
      "2\n",
      "3\n"
     ]
    }
   ],
   "source": [
    "dll = DoublyLinkedList(2)\n",
    "dll.append(3)\n",
    "dll.prepend(1)\n",
    "dll.print_list()"
   ]
  },
  {
   "cell_type": "code",
   "execution_count": 31,
   "metadata": {},
   "outputs": [
    {
     "name": "stdout",
     "output_type": "stream",
     "text": [
      "<__main__.Node object at 0x000001B1D6BAA220>\n",
      "<__main__.Node object at 0x000001B1D6BAAA00>\n",
      "None\n"
     ]
    }
   ],
   "source": [
    "dll = DoublyLinkedList(2)\n",
    "dll.append(1)\n",
    "print(dll.pop_first())\n",
    "print(dll.pop_first())\n",
    "print(dll.pop_first())"
   ]
  },
  {
   "cell_type": "code",
   "execution_count": 32,
   "metadata": {},
   "outputs": [
    {
     "name": "stdout",
     "output_type": "stream",
     "text": [
      "<__main__.Node object at 0x000001B1D6D1B970>\n",
      "<__main__.Node object at 0x000001B1D6BAA970>\n"
     ]
    }
   ],
   "source": [
    "dll = DoublyLinkedList(0)\n",
    "dll.append(1)\n",
    "dll.append(2)\n",
    "dll.append(3)\n",
    "print(dll.get(1))\n",
    "print(dll.get(2))"
   ]
  },
  {
   "cell_type": "code",
   "execution_count": 33,
   "metadata": {},
   "outputs": [
    {
     "name": "stdout",
     "output_type": "stream",
     "text": [
      "11\n",
      "4\n",
      "23\n",
      "7\n"
     ]
    }
   ],
   "source": [
    "dll = DoublyLinkedList(11)\n",
    "dll.append(3)\n",
    "dll.append(23)\n",
    "dll.append(7)\n",
    "dll.set_value(1,4)\n",
    "dll.print_list()"
   ]
  },
  {
   "cell_type": "code",
   "execution_count": 34,
   "metadata": {},
   "outputs": [
    {
     "name": "stdout",
     "output_type": "stream",
     "text": [
      "1\n",
      "2\n",
      "3\n"
     ]
    }
   ],
   "source": [
    "dll = DoublyLinkedList(1)\n",
    "dll.append(3)\n",
    "dll.insert(1,2)\n",
    "dll.print_list()"
   ]
  },
  {
   "cell_type": "code",
   "execution_count": 35,
   "metadata": {},
   "outputs": [
    {
     "name": "stdout",
     "output_type": "stream",
     "text": [
      "<__main__.Node object at 0x000001B1D6D1BC70> \n",
      "\n",
      "0\n",
      "2\n"
     ]
    }
   ],
   "source": [
    "dll = DoublyLinkedList(0)\n",
    "dll.append(1)\n",
    "dll.append(2)\n",
    "print(dll.remove(1), '\\n')\n",
    "dll.print_list()"
   ]
  },
  {
   "cell_type": "code",
   "execution_count": 36,
   "metadata": {},
   "outputs": [
    {
     "name": "stdout",
     "output_type": "stream",
     "text": [
      "DLL before reverse():\n",
      "1\n",
      "2\n",
      "3\n",
      "4\n",
      "5\n",
      "\n",
      "DLL after reverse():\n",
      "5\n",
      "4\n",
      "3\n",
      "2\n",
      "1\n"
     ]
    }
   ],
   "source": [
    "my_doubly_linked_list = DoublyLinkedList(1)\n",
    "my_doubly_linked_list.append(2)\n",
    "my_doubly_linked_list.append(3)\n",
    "my_doubly_linked_list.append(4)\n",
    "my_doubly_linked_list.append(5)\n",
    "\n",
    "\n",
    "print('DLL before reverse():')\n",
    "my_doubly_linked_list.print_list()\n",
    "\n",
    "\n",
    "my_doubly_linked_list.reverse()\n",
    "\n",
    "\n",
    "print('\\nDLL after reverse():')\n",
    "my_doubly_linked_list.print_list()"
   ]
  },
  {
   "cell_type": "code",
   "execution_count": 37,
   "metadata": {},
   "outputs": [
    {
     "name": "stdout",
     "output_type": "stream",
     "text": [
      "my_dll_1 is_palindrome:\n",
      "True\n",
      "\n",
      "my_dll_2 is_palindrome:\n",
      "False\n"
     ]
    }
   ],
   "source": [
    "my_dll_1 = DoublyLinkedList(1)\n",
    "my_dll_1.append(2)\n",
    "my_dll_1.append(3)\n",
    "my_dll_1.append(2)\n",
    "my_dll_1.append(1)\n",
    "\n",
    "print('my_dll_1 is_palindrome:')\n",
    "print( my_dll_1.is_palindrome() )\n",
    "\n",
    "\n",
    "my_dll_2 = DoublyLinkedList(1)\n",
    "my_dll_2.append(2)\n",
    "my_dll_2.append(3)\n",
    "\n",
    "print('\\nmy_dll_2 is_palindrome:')\n",
    "print( my_dll_2.is_palindrome() )"
   ]
  },
  {
   "cell_type": "code",
   "execution_count": 38,
   "metadata": {},
   "outputs": [
    {
     "name": "stdout",
     "output_type": "stream",
     "text": [
      "my_dll before swap_pairs:\n",
      "1\n",
      "2\n",
      "3\n",
      "4\n",
      "my_dll after swap_pairs:\n",
      "2\n",
      "1\n",
      "4\n",
      "3\n"
     ]
    }
   ],
   "source": [
    "my_dll = DoublyLinkedList(1)\n",
    "my_dll.append(2)\n",
    "my_dll.append(3)\n",
    "my_dll.append(4)\n",
    "\n",
    "print('my_dll before swap_pairs:')\n",
    "my_dll.print_list()\n",
    "\n",
    "my_dll.swap_pairs() \n",
    "\n",
    "\n",
    "print('my_dll after swap_pairs:')\n",
    "my_dll.print_list()\n"
   ]
  },
  {
   "attachments": {},
   "cell_type": "markdown",
   "metadata": {},
   "source": [
    "Stacks and Queues\n"
   ]
  },
  {
   "cell_type": "code",
   "execution_count": 39,
   "metadata": {},
   "outputs": [],
   "source": [
    "class Node:\n",
    "    def __init__(self, value):\n",
    "        self.value = value\n",
    "        self.next = None"
   ]
  },
  {
   "attachments": {},
   "cell_type": "markdown",
   "metadata": {},
   "source": [
    "Stacks using lists"
   ]
  },
  {
   "cell_type": "code",
   "execution_count": 40,
   "metadata": {},
   "outputs": [],
   "source": [
    "class Stack:\n",
    "    def __init__(self):\n",
    "        self.stack_list = []\n",
    "    def print_stack(self):\n",
    "        for i in range(len(self.stack_list)-1, -1, -1):\n",
    "            print(self.stack_list[i])\n",
    "    def is_empty(self):\n",
    "        return len(self.stack_list) == 0\n",
    "    def peek(self):\n",
    "        if self.is_empty():\n",
    "            return None\n",
    "        else:\n",
    "            return self.stack_list[-1]\n",
    "    def size(self):\n",
    "        return len(self.stack_list)\n",
    "    def push(self,value):\n",
    "        self.stack_list.append(value)\n",
    "        #self.top = value\n",
    "    def pop(self):\n",
    "        if len(self.stack_list) == 0: # we can also write self.is_empty():\n",
    "            return\n",
    "        else:\n",
    "            return self.stack_list.pop()"
   ]
  },
  {
   "cell_type": "code",
   "execution_count": 41,
   "metadata": {},
   "outputs": [],
   "source": [
    "def is_balanced_parentheses(parentheses):\n",
    "    # Create a new stack\n",
    "    stack = Stack()\n",
    " \n",
    "    # Iterate over each character in the string\n",
    "    for p in parentheses:\n",
    "        # If the character is an opening parenthesis, \n",
    "        # push it onto the stack\n",
    "        if p == '(':\n",
    "            stack.push(p)\n",
    "        # If the character is a closing parenthesis, \n",
    "        # pop the top element off the stack\n",
    "        # and check if it matches the opening parenthesis\n",
    "        elif p == ')':\n",
    "            # If the stack is empty or the top element \n",
    "            # is not an opening parenthesis,\n",
    "            # the parentheses are not balanced\n",
    "            if stack.is_empty() or stack.pop() != '(': # here in the conditional statement itself pop is written, if we write it above we get an error because we already popped the element and length of stack will be zero\n",
    "                return False\n",
    " \n",
    "    # If the stack is empty, the parentheses are balanced\n",
    "    return stack.is_empty()"
   ]
  },
  {
   "cell_type": "code",
   "execution_count": 42,
   "metadata": {},
   "outputs": [
    {
     "name": "stdout",
     "output_type": "stream",
     "text": [
      "olleh\n"
     ]
    }
   ],
   "source": [
    "def reverse_string(string):\n",
    "    stack = Stack()\n",
    "    for i in range(len(string)):\n",
    "        stack.push(string[i])\n",
    "    reverse = \"\"\n",
    "    for i in range(len(string)):\n",
    "        reverse = reverse + stack.pop()\n",
    "    return reverse\n",
    "my_string = 'hello'\n",
    "\n",
    "print ( reverse_string(my_string) )"
   ]
  },
  {
   "cell_type": "code",
   "execution_count": 43,
   "metadata": {},
   "outputs": [],
   "source": [
    "def sort_stack(stack):\n",
    "    sorted_stack = Stack()\n",
    "    while stack.is_empty() == False:\n",
    "        temp = stack.pop()\n",
    "        while (sorted_stack.is_empty() == False) and (sorted_stack.peek()> temp):\n",
    "            a = sorted_stack.pop()\n",
    "            stack.push(a)\n",
    "        sorted_stack.push(temp)\n",
    "    while sorted_stack.is_empty() == False:\n",
    "        b = sorted_stack.pop()\n",
    "        stack.push(b)\n"
   ]
  },
  {
   "cell_type": "code",
   "execution_count": 44,
   "metadata": {},
   "outputs": [],
   "source": [
    "def sort_stack(stack):\n",
    "    # Create a new stack to hold the sorted elements\n",
    "    additional_stack = Stack()\n",
    " \n",
    "    # While the original stack is not empty\n",
    "    while not stack.is_empty():\n",
    "        # Remove the top element from the original stack\n",
    "        temp = stack.pop()\n",
    " \n",
    "        # While the additional stack is not empty and \n",
    "        #the top element is greater than the current element\n",
    "        while not additional_stack.is_empty() and additional_stack.peek() > temp:\n",
    "            # Move the top element from the additional stack to the original stack\n",
    "            stack.push(additional_stack.pop())\n",
    " \n",
    "        # Add the current element to the additional stack\n",
    "        additional_stack.push(temp)\n",
    " \n",
    "    # Copy the sorted elements from the additional stack to the original stack\n",
    "    while not additional_stack.is_empty():\n",
    "        stack.push(additional_stack.pop())\n"
   ]
  },
  {
   "cell_type": "code",
   "execution_count": 45,
   "metadata": {},
   "outputs": [
    {
     "name": "stdout",
     "output_type": "stream",
     "text": [
      "Stack before sort_stack():\n",
      "2\n",
      "4\n",
      "5\n",
      "1\n",
      "3\n",
      "\n",
      "Stack after sort_stack:\n",
      "1\n",
      "2\n",
      "3\n",
      "4\n",
      "5\n"
     ]
    }
   ],
   "source": [
    "my_stack = Stack()\n",
    "my_stack.push(3)\n",
    "my_stack.push(1)\n",
    "my_stack.push(5)\n",
    "my_stack.push(4)\n",
    "my_stack.push(2)\n",
    "\n",
    "print(\"Stack before sort_stack():\")\n",
    "my_stack.print_stack()\n",
    "\n",
    "sort_stack(my_stack)\n",
    "\n",
    "print(\"\\nStack after sort_stack:\")\n",
    "my_stack.print_stack()"
   ]
  },
  {
   "attachments": {},
   "cell_type": "markdown",
   "metadata": {},
   "source": [
    "Stacks using LinkedList"
   ]
  },
  {
   "cell_type": "code",
   "execution_count": 46,
   "metadata": {},
   "outputs": [],
   "source": [
    "class Stack:\n",
    "    def __init__(self,value):\n",
    "        new_node = Node(value)\n",
    "        self.top = new_node\n",
    "        self.height = 1\n",
    "    def print_stack(self):\n",
    "        temp = self.top\n",
    "        while temp is not None:\n",
    "            print(temp.value)\n",
    "            temp = temp.next\n",
    "    def push (self,value):\n",
    "        new_node = Node(value)\n",
    "        if self.height == 0:\n",
    "            self.top = new_node\n",
    "        else:\n",
    "            new_node.next = self.top\n",
    "            self.top = new_node\n",
    "        self.height += 1\n",
    "    def pop (self):\n",
    "        if self.height == 0:\n",
    "            return None\n",
    "        else:\n",
    "            temp = self.top\n",
    "            self.top = temp.next\n",
    "            temp.next = None\n",
    "            self.height -= 1\n",
    "            return temp\n",
    "    \n"
   ]
  },
  {
   "cell_type": "code",
   "execution_count": 47,
   "metadata": {},
   "outputs": [
    {
     "name": "stdout",
     "output_type": "stream",
     "text": [
      "1\n",
      "2\n"
     ]
    }
   ],
   "source": [
    "s = Stack(2)\n",
    "s.push(1)\n",
    "s.print_stack()"
   ]
  },
  {
   "cell_type": "code",
   "execution_count": 48,
   "metadata": {},
   "outputs": [
    {
     "name": "stdout",
     "output_type": "stream",
     "text": [
      "11\n",
      "3\n",
      "23\n",
      "7\n",
      "<__main__.Node object at 0x000001B1D6D8C8B0>\n",
      "3\n",
      "23\n",
      "7\n"
     ]
    }
   ],
   "source": [
    "s = Stack(7)\n",
    "s.push(23)\n",
    "s.push(3)\n",
    "s.push(11)\n",
    "s.print_stack()\n",
    "print(s.pop())\n",
    "s.print_stack()"
   ]
  },
  {
   "cell_type": "code",
   "execution_count": 49,
   "metadata": {},
   "outputs": [],
   "source": [
    "class Node:\n",
    "    def __init__(self, value):\n",
    "        self.value = value\n",
    "        self.next = None"
   ]
  },
  {
   "attachments": {},
   "cell_type": "markdown",
   "metadata": {},
   "source": [
    "queues using 2 stacks"
   ]
  },
  {
   "cell_type": "code",
   "execution_count": 50,
   "metadata": {},
   "outputs": [],
   "source": [
    "class MyQueue:\n",
    "    def __init__(self):\n",
    "        self.stack1 = []\n",
    "        self.stack2 = []\n",
    "        \n",
    "    def enqueue(self, value):\n",
    "        while len(self.stack1) > 0:\n",
    "            self.stack2.append(self.stack1.pop())\n",
    "        self.stack1.append(value)\n",
    "        while len(self.stack2) > 0:\n",
    "            self.stack1.append(self.stack2.pop())\n",
    "    def dequeue(self):\n",
    "        if len(self.stack1) == 0:\n",
    "            return None\n",
    "        else:\n",
    "            return self.stack1.pop()\n",
    "    def peek(self):\n",
    "        return self.stack1[-1]\n",
    "\n",
    "    def is_empty(self):\n",
    "        return len(self.stack1) == 0\n",
    "        "
   ]
  },
  {
   "attachments": {},
   "cell_type": "markdown",
   "metadata": {},
   "source": [
    "Queues using LinkedList"
   ]
  },
  {
   "cell_type": "code",
   "execution_count": 51,
   "metadata": {},
   "outputs": [],
   "source": [
    "class Queue:\n",
    "    def __init__(self,value):\n",
    "        new_node = Node(value)\n",
    "        self.first = new_node\n",
    "        self.last = new_node\n",
    "        self.length = 1\n",
    "    def print_queue(self):\n",
    "        temp = self.first\n",
    "        while temp is not None:\n",
    "            print(temp.value)\n",
    "            temp = temp.next\n",
    "    def enqueue(self, value):\n",
    "        new_node = Node(value)\n",
    "        if self.first is None:\n",
    "            self.first = new_node\n",
    "            self.last = new_node\n",
    "        else:\n",
    "            self.last.next = new_node\n",
    "            self.last = new_node\n",
    "        self.length += 1\n",
    "    def dequeue(self):\n",
    "        if self.length == 0:\n",
    "            return None\n",
    "        temp = self.first\n",
    "        if self.length == 1:\n",
    "            self.first = None\n",
    "            self.last = None\n",
    "        else:\n",
    "            self.first = self.first.next\n",
    "            temp.next = None\n",
    "        self.length -= 1\n",
    "        return temp\n",
    "    \n",
    "        "
   ]
  },
  {
   "cell_type": "code",
   "execution_count": 52,
   "metadata": {},
   "outputs": [
    {
     "name": "stdout",
     "output_type": "stream",
     "text": [
      "4\n"
     ]
    }
   ],
   "source": [
    "my_queue = Queue(4)\n",
    "my_queue.print_queue()"
   ]
  },
  {
   "cell_type": "code",
   "execution_count": 53,
   "metadata": {},
   "outputs": [
    {
     "name": "stdout",
     "output_type": "stream",
     "text": [
      "1\n",
      "2\n"
     ]
    }
   ],
   "source": [
    "q = Queue(1)\n",
    "q.enqueue(2)\n",
    "q.print_queue()"
   ]
  },
  {
   "cell_type": "code",
   "execution_count": 54,
   "metadata": {},
   "outputs": [
    {
     "name": "stdout",
     "output_type": "stream",
     "text": [
      "<__main__.Node object at 0x000001B1D6D8C490>\n",
      "<__main__.Node object at 0x000001B1D6D8CAF0>\n",
      "None\n"
     ]
    }
   ],
   "source": [
    "q = Queue(1)\n",
    "q.enqueue(2)\n",
    "print(q.dequeue())\n",
    "print(q.dequeue())\n",
    "print(q.dequeue())"
   ]
  },
  {
   "attachments": {},
   "cell_type": "markdown",
   "metadata": {},
   "source": [
    "Binary Seach Trees BST"
   ]
  },
  {
   "cell_type": "code",
   "execution_count": 55,
   "metadata": {},
   "outputs": [],
   "source": [
    "class Node:\n",
    "    def __init__(self,value):\n",
    "        self.value = value\n",
    "        self.left = None\n",
    "        self.right = None"
   ]
  },
  {
   "cell_type": "code",
   "execution_count": 56,
   "metadata": {},
   "outputs": [],
   "source": [
    "class BinarySearchTree:\n",
    "    def __init__(self,value):\n",
    "        new_node = Node(value)\n",
    "        self.root = new_node"
   ]
  },
  {
   "attachments": {},
   "cell_type": "markdown",
   "metadata": {},
   "source": [
    "we can also have root pointing to None and add elements to the tree using insert method"
   ]
  },
  {
   "cell_type": "code",
   "execution_count": 93,
   "metadata": {},
   "outputs": [],
   "source": [
    "class BinarySearchTree:\n",
    "    def __init__(self):\n",
    "        self.root = None\n",
    "    def insert(self,value):\n",
    "        new_node = Node(value)\n",
    "        if self.root is None:\n",
    "            self.root = new_node\n",
    "            return True\n",
    "        temp = self.root\n",
    "        while (True): # normally while loop stops when statement is false but here the conditional statement is always true so break out of the loop with a return statement\n",
    "            if new_node.value == temp.value:\n",
    "                return False\n",
    "            if new_node.value < temp.value:\n",
    "                if temp.left is None:\n",
    "                    temp.left = new_node\n",
    "                    return True\n",
    "                temp = temp.left\n",
    "            else:\n",
    "                if temp.right is None:\n",
    "                    temp.right = new_node\n",
    "                    return True\n",
    "                temp = temp.right\n",
    "    def contains(self,value):\n",
    "        # if self.root is None:\n",
    "        #     return False\n",
    "        # we dont need these above 2 lines of code but including them doesnt cause problems\n",
    "        temp = self.root\n",
    "        while temp is not None:\n",
    "            if value < temp.value:\n",
    "                temp = temp.left\n",
    "            elif value > temp.value:\n",
    "                temp = temp.right\n",
    "            else:\n",
    "                 return True\n",
    "        return False\n",
    "    def __r_contains(self,current_node, value):\n",
    "        if current_node == None:\n",
    "            return False\n",
    "        if value == current_node.value:\n",
    "            return True\n",
    "        if value < current_node.value:\n",
    "            return self.__r_contains(current_node.left, value)\n",
    "        if value > current_node.value:\n",
    "            return self.__r_contains(current_node.right,value)\n",
    "    def r_contains(self,value):\n",
    "        return self.__r_contains(self.root, value)\n",
    "    def __r_insert(self, current_node, value):\n",
    "        if current_node == None:\n",
    "            return Node(value)\n",
    "        if value < current_node.value:\n",
    "            current_node.left = self.__r_insert(current_node.left,value)\n",
    "        if value > current_node.value:\n",
    "            current_node.right = self.__r_insert(current_node.right, value)\n",
    "        return current_node\n",
    "    def r_insert(self,value):\n",
    "        if self.root == None:\n",
    "            self.root = Node(value)\n",
    "        self.__r_insert(self.root, value)\n",
    "    def min_value(self,current_node):\n",
    "        while current_node.left is not None:\n",
    "            current_node = current_node.left\n",
    "        return current_node.value\n",
    "    def __delete_node(self,current_node, value):\n",
    "        if current_node == None:\n",
    "            return None\n",
    "        if value < current_node.value:\n",
    "            current_node.left = self.__delete_node(current_node.left,value)\n",
    "        elif value > current_node.value:\n",
    "            current_node.right = self.__delete_node(current_node.right,value)\n",
    "        else:\n",
    "            if current_node.left == None and current_node.right == None:\n",
    "                return None\n",
    "            elif current_node.left == None:\n",
    "                current_node = current_node.right\n",
    "            elif current_node.right == None:\n",
    "                 current_node = current_node.left\n",
    "            else:\n",
    "                sub_tree_min = self.min_value(current_node.right)\n",
    "                current_node.value = sub_tree_min\n",
    "                current_node.right = self.__delete_node(current_node.right,sub_tree_min)\n",
    "        return current_node\n",
    "    def delete_node(self,value):\n",
    "        self.__delete_node(self.root, value)\n",
    "    "
   ]
  },
  {
   "cell_type": "code",
   "execution_count": 86,
   "metadata": {},
   "outputs": [
    {
     "name": "stdout",
     "output_type": "stream",
     "text": [
      "True\n",
      "False\n"
     ]
    }
   ],
   "source": [
    "t = BinarySearchTree()\n",
    "t.insert(47)\n",
    "t.insert(21)\n",
    "t.insert(76)\n",
    "t.insert(18)\n",
    "t.insert(27)\n",
    "t.insert(52)\n",
    "t.insert(82)\n",
    "\n",
    "print(t.r_contains(27))\n",
    "print(t.r_contains(17))"
   ]
  },
  {
   "cell_type": "code",
   "execution_count": 88,
   "metadata": {},
   "outputs": [
    {
     "name": "stdout",
     "output_type": "stream",
     "text": [
      "2\n",
      "1\n",
      "3\n"
     ]
    }
   ],
   "source": [
    "t = BinarySearchTree()\n",
    "t.r_insert(2)\n",
    "t.r_insert(1)\n",
    "t.r_insert(3)\n",
    "print(t.root.value)\n",
    "print(t.root.left.value)\n",
    "print(t.root.right.value)"
   ]
  },
  {
   "cell_type": "code",
   "execution_count": 91,
   "metadata": {},
   "outputs": [
    {
     "name": "stdout",
     "output_type": "stream",
     "text": [
      "18\n",
      "52\n"
     ]
    }
   ],
   "source": [
    "t = BinarySearchTree()\n",
    "t.insert(47)\n",
    "t.insert(21)\n",
    "t.insert(76)\n",
    "t.insert(18)\n",
    "t.insert(27)\n",
    "t.insert(52)\n",
    "t.insert(82)\n",
    "\n",
    "print(t.min_value(t.root))\n",
    "print(t.min_value(t.root.right))"
   ]
  },
  {
   "cell_type": "code",
   "execution_count": 95,
   "metadata": {},
   "outputs": [
    {
     "name": "stdout",
     "output_type": "stream",
     "text": [
      "2\n",
      "1\n",
      "3\n",
      "3\n",
      "1\n",
      "None\n"
     ]
    }
   ],
   "source": [
    "t = BinarySearchTree()\n",
    "t.r_insert(2)\n",
    "t.r_insert(1)\n",
    "t.r_insert(3)\n",
    "print(t.root.value)\n",
    "print(t.root.left.value)\n",
    "print(t.root.right.value)\n",
    "t.delete_node(2)\n",
    "print(t.root.value)\n",
    "print(t.root.left.value)\n",
    "print(t.root.right)\n"
   ]
  },
  {
   "cell_type": "code",
   "execution_count": 58,
   "metadata": {},
   "outputs": [
    {
     "name": "stdout",
     "output_type": "stream",
     "text": [
      "None\n"
     ]
    }
   ],
   "source": [
    "bst = BinarySearchTree()\n",
    "print(bst.root)"
   ]
  },
  {
   "cell_type": "code",
   "execution_count": 59,
   "metadata": {},
   "outputs": [
    {
     "name": "stdout",
     "output_type": "stream",
     "text": [
      "2\n",
      "1\n",
      "3\n"
     ]
    }
   ],
   "source": [
    "bst.insert(2)\n",
    "bst.insert(1)\n",
    "bst.insert(3)\n",
    "\n",
    "print(bst.root.value)\n",
    "print(bst.root.left.value)\n",
    "print(bst.root.right.value)\n"
   ]
  },
  {
   "cell_type": "code",
   "execution_count": 60,
   "metadata": {},
   "outputs": [
    {
     "name": "stdout",
     "output_type": "stream",
     "text": [
      "True\n",
      "False\n"
     ]
    }
   ],
   "source": [
    "bst = BinarySearchTree()\n",
    "bst.insert(47)\n",
    "bst.insert(21)\n",
    "bst.insert(76)\n",
    "bst.insert(18)\n",
    "bst.insert(27)\n",
    "bst.insert(52)\n",
    "bst.insert(82)\n",
    "print(bst.contains(27))\n",
    "print(bst.contains(17))"
   ]
  },
  {
   "attachments": {},
   "cell_type": "markdown",
   "metadata": {},
   "source": [
    "Hash Tables"
   ]
  },
  {
   "cell_type": "code",
   "execution_count": 61,
   "metadata": {},
   "outputs": [],
   "source": [
    "class HashTable:\n",
    "    def __init__(self,size = 7): # 7 is default when no argument is provided \n",
    "        self.data_map = [None] * size # this going to create a list with None items with size provided or 7\n",
    "    def __hash(self, key):\n",
    "        my_hash = 0\n",
    "        for letter in key:\n",
    "            my_hash = (my_hash + ord(letter)*23)% len(self.data_map) # ord means ordinal number it gives the ascii number of the letter, instead of 23 we can use any prime number\n",
    "        return my_hash\n",
    "    def print_table(self):\n",
    "        for i, val in enumerate(self.data_map):\n",
    "            print(i, ':',val)\n",
    "    def set_item(self, key,value):\n",
    "        index = self.__hash(key)\n",
    "        if self.data_map[index] == None:\n",
    "            self.data_map[index] = []\n",
    "        self.data_map[index].append([key,value])\n",
    "    def get_item(self,key):\n",
    "        index = self.__hash(key)\n",
    "        if self.data_map[index] is not None:\n",
    "            for i in range(len(self.data_map[index])):\n",
    "                if self.data_map[index][i][0] == key:\n",
    "                    return self.data_map[index][i][1]\n",
    "        return None\n",
    "    def keys(self):\n",
    "        all_keys = []\n",
    "        for i in range(len(self.data_map)):\n",
    "            if self.data_map[i] is not None:\n",
    "                for j in range(len(self.data_map[i])):\n",
    "                    all_keys.append(self.data_map[i][j][0])\n",
    "        return all_keys   "
   ]
  },
  {
   "attachments": {},
   "cell_type": "markdown",
   "metadata": {},
   "source": [
    "dictionary is the inbuilt hash table in python, it hashes more efficitently than the above method also for getting and setting item it is o(1)"
   ]
  },
  {
   "cell_type": "code",
   "execution_count": 62,
   "metadata": {},
   "outputs": [],
   "source": [
    "def item_in_common(list1,list2):\n",
    "    my_dict = {}\n",
    "    for i in list1:\n",
    "        my_dict[i] = True\n",
    "    for j in list2:\n",
    "        if j in my_dict:\n",
    "            return True\n",
    "    return False"
   ]
  },
  {
   "cell_type": "code",
   "execution_count": 63,
   "metadata": {},
   "outputs": [
    {
     "name": "stdout",
     "output_type": "stream",
     "text": [
      "0 : None\n",
      "1 : None\n",
      "2 : None\n",
      "3 : None\n",
      "4 : None\n",
      "5 : None\n",
      "6 : None\n"
     ]
    }
   ],
   "source": [
    "h = HashTable()\n",
    "h.print_table()"
   ]
  },
  {
   "cell_type": "code",
   "execution_count": 64,
   "metadata": {},
   "outputs": [
    {
     "name": "stdout",
     "output_type": "stream",
     "text": [
      "0 : None\n",
      "1 : None\n",
      "2 : None\n",
      "3 : None\n",
      "4 : [['bolts', 1400], ['washers', 500]]\n",
      "5 : None\n",
      "6 : [['lumber', 70]]\n"
     ]
    }
   ],
   "source": [
    "h.set_item('bolts',1400)\n",
    "h.set_item('washers',500)\n",
    "h.set_item('lumber',70)\n",
    "h.print_table()"
   ]
  },
  {
   "attachments": {},
   "cell_type": "markdown",
   "metadata": {},
   "source": [
    "ran multipule times so items got added multiple times"
   ]
  },
  {
   "cell_type": "code",
   "execution_count": 65,
   "metadata": {},
   "outputs": [
    {
     "name": "stdout",
     "output_type": "stream",
     "text": [
      "1400\n",
      "500\n",
      "70\n",
      "None\n"
     ]
    }
   ],
   "source": [
    "print(h.get_item('bolts'))\n",
    "print(h.get_item('washers'))\n",
    "print(h.get_item('lumber'))\n",
    "print(h.get_item('hooks'))"
   ]
  },
  {
   "cell_type": "code",
   "execution_count": 66,
   "metadata": {},
   "outputs": [
    {
     "name": "stdout",
     "output_type": "stream",
     "text": [
      "['bolts', 'washers', 'lumber']\n"
     ]
    }
   ],
   "source": [
    "h = HashTable()\n",
    "h.set_item('bolts',1400)\n",
    "h.set_item('washers',500)\n",
    "h.set_item('lumber',70)\n",
    "print(h.keys())"
   ]
  },
  {
   "cell_type": "code",
   "execution_count": 67,
   "metadata": {},
   "outputs": [
    {
     "name": "stdout",
     "output_type": "stream",
     "text": [
      "True\n"
     ]
    }
   ],
   "source": [
    "l1 = [1,4,2,8]\n",
    "l2 = [3,5,7,2]\n",
    "print(item_in_common(l1,l2))"
   ]
  },
  {
   "cell_type": "code",
   "execution_count": 68,
   "metadata": {},
   "outputs": [
    {
     "name": "stdout",
     "output_type": "stream",
     "text": [
      "[]\n",
      "[1, 2]\n",
      "[1]\n",
      "[3, 4]\n",
      "[1, 2, 3]\n",
      "[1, 2, 3]\n",
      "[]\n"
     ]
    }
   ],
   "source": [
    "def find_duplicates(list1):\n",
    "    my_dict = {}\n",
    "    l = []\n",
    "    for i in list1:\n",
    "        if i  not in my_dict.keys():\n",
    "            my_dict[i] = 0\n",
    "        elif i in my_dict.keys():\n",
    "            my_dict[i] = my_dict[i] + 1\n",
    "    for j in my_dict.keys():\n",
    "        if my_dict[j] > 0:\n",
    "            l.append(j)\n",
    "    return l\n",
    "    \n",
    "print ( find_duplicates([1, 2, 3, 4, 5]) )\n",
    "print ( find_duplicates([1, 1, 2, 2, 3]) )\n",
    "print ( find_duplicates([1, 1, 1, 1, 1]) )\n",
    "print ( find_duplicates([1, 2, 3, 3, 3, 4, 4, 5]) )\n",
    "print ( find_duplicates([1, 1, 2, 2, 2, 3, 3, 3, 3]) )\n",
    "print ( find_duplicates([1, 1, 1, 2, 2, 2, 3, 3, 3, 3]) )\n",
    "print ( find_duplicates([]) )"
   ]
  },
  {
   "cell_type": "code",
   "execution_count": 69,
   "metadata": {},
   "outputs": [],
   "source": [
    "\n",
    "def find_duplicates(nums):\n",
    "    # create an empty hash table\n",
    "    num_counts = {}\n",
    " \n",
    "    # iterate through each number in the array\n",
    "    for num in nums:\n",
    "        # add the number to the hash table or increment its count if it's already in the hash table\n",
    "        num_counts[num] = num_counts.get(num, 0) + 1 \n",
    "        # .get() returns the value of the given key, '0' is returned when there is no given key in the dict, default is None\n",
    "    # create a list of the numbers that appear more than once in the input array\n",
    "    duplicates = [num for num, count in num_counts.items() if count > 1]\n",
    " \n",
    "    # return the list of duplicates\n",
    "    return duplicates"
   ]
  },
  {
   "cell_type": "code",
   "execution_count": 70,
   "metadata": {},
   "outputs": [
    {
     "name": "stdout",
     "output_type": "stream",
     "text": [
      "l\n",
      "h\n"
     ]
    }
   ],
   "source": [
    "def first_non_repeating_char(string):\n",
    "    my_dict = {}\n",
    "    for s in string:\n",
    "        if s not in my_dict.keys():\n",
    "            my_dict[s] = 0\n",
    "        elif s in my_dict.keys():\n",
    "            my_dict[s] += 1\n",
    "    for i in my_dict.keys():\n",
    "        if my_dict[i] == 0:\n",
    "            return i\n",
    "    return None\n",
    "print( first_non_repeating_char('leetcode') )\n",
    "\n",
    "print( first_non_repeating_char('hello') )"
   ]
  },
  {
   "cell_type": "code",
   "execution_count": 71,
   "metadata": {},
   "outputs": [],
   "source": [
    "import numpy as np\n",
    " \n",
    "def findElements(lst1, lst2):\n",
    "    return list(np.array(lst1)[lst2])\n",
    "\n",
    "# 0r def findElements(lst1, lst2):\n",
    "    #return [lst1[i] for i in lst2]\n",
    "\n",
    "def sortString(str):\n",
    "    return ''.join(sorted(str))\n",
    "\n",
    "def group_anagrams(strings):\n",
    "    my_dict = {}\n",
    "    for i in strings:\n",
    "        my_dict[i] = 1\n",
    "    l = [sortString(i) for i in strings]\n",
    "    r = {}\n",
    "    z = []\n",
    "    for i in l:\n",
    "        r[i] = r.get(i,0) + 1\n",
    "    for j in r.keys():\n",
    "        if r[j] > 0:\n",
    "            k = [i for i,n in enumerate(l) if n == j]\n",
    "            h = findElements(strings,k)\n",
    "            z.append(h)\n",
    "    return z  \n",
    "    "
   ]
  },
  {
   "cell_type": "code",
   "execution_count": 72,
   "metadata": {},
   "outputs": [],
   "source": [
    "def group_anagrams(strings):\n",
    "    # create an empty hash table\n",
    "    anagram_groups = {}\n",
    " \n",
    "    # iterate through each string in the array\n",
    "    for string in strings:\n",
    "        # sort each string to get its canonical form\n",
    "        # sorted('eat') returns ['a', 'e', 't']\n",
    "        # ''.join(['a', 'e', 't']) coverts the array of chars to 'aet' string\n",
    "        canonical = ''.join(sorted(string))\n",
    " \n",
    "        # check to see if the canonical form of the string exists in the hash table\n",
    "        if canonical in anagram_groups:\n",
    "            # if it does then add the string there\n",
    "            anagram_groups[canonical].append(string)\n",
    "        else:\n",
    "            # otherwise create new canonical form and add the string there\n",
    "            anagram_groups[canonical] = [string]\n",
    " \n",
    "    # convert the hash table to a list of lists\n",
    "    return list(anagram_groups.values())"
   ]
  },
  {
   "cell_type": "code",
   "execution_count": 73,
   "metadata": {},
   "outputs": [
    {
     "name": "stdout",
     "output_type": "stream",
     "text": [
      "1st set:\n",
      "[['eat', 'tea', 'ate'], ['tan', 'nat'], ['bat']]\n",
      "\n",
      "2nd set:\n",
      "[['abc', 'cba', 'bac'], ['foo'], ['bar']]\n",
      "\n",
      "3rd set:\n",
      "[['listen', 'silent'], ['triangle', 'integral'], ['garden', 'ranged']]\n"
     ]
    }
   ],
   "source": [
    "print(\"1st set:\")\n",
    "print( group_anagrams([\"eat\", \"tea\", \"tan\", \"ate\", \"nat\", \"bat\"]) )\n",
    "\n",
    "print(\"\\n2nd set:\")\n",
    "print( group_anagrams([\"abc\", \"cba\", \"bac\", \"foo\", \"bar\"]) )\n",
    "\n",
    "print(\"\\n3rd set:\")\n",
    "print( group_anagrams([\"listen\", \"silent\", \"triangle\", \"integral\", \"garden\", \"ranged\"]) )\n"
   ]
  },
  {
   "cell_type": "code",
   "execution_count": 74,
   "metadata": {},
   "outputs": [],
   "source": [
    "def two_sum(nums, target):\n",
    "    # create an empty hash table\n",
    "    num_map = {}\n",
    " \n",
    "    # iterate through each number in the array\n",
    "    for i, num in enumerate(nums):\n",
    "        # calculate the complement of the current number\n",
    "        complement = target - num\n",
    " \n",
    "        # check if the complement is in the hash table\n",
    "        if complement in num_map:\n",
    "            # if it is, return the indices of the two numbers\n",
    "            return [num_map[complement], i]\n",
    " \n",
    "        # add the current number and its index to the hash table\n",
    "        num_map[num] = i\n",
    " \n",
    "    # if no two numbers add up to the target, return an empty list\n",
    "    return []\n"
   ]
  },
  {
   "cell_type": "code",
   "execution_count": 75,
   "metadata": {},
   "outputs": [],
   "source": [
    "def subarray_sum(nums, target):\n",
    "    # Dictionary to store the running sums (keys) and \n",
    "    # their corresponding indices (values).\n",
    "    sum_index = {0: -1}\n",
    "    \n",
    "    # Variable to keep track of the current running sum.\n",
    "    current_sum = 0\n",
    " \n",
    "    # Iterate through the list with both index and value.\n",
    "    for i, num in enumerate(nums):\n",
    "        # Add the current number to the running sum.\n",
    "        current_sum += num\n",
    " \n",
    "        # Check if there's a subarray sum that matches the target.\n",
    "        if current_sum - target in sum_index:\n",
    "            # If there's a match, we return the start and end \n",
    "            # indices of that subarray.\n",
    "            #\n",
    "            # 'sum_index[current_sum - target] + 1' gives the start \n",
    "            # index of the subarray:\n",
    "            # It accesses the index stored in sum_index where the \n",
    "            # subarray begins (current_sum - target). We add 1 \n",
    "            # because Python is 0-indexed and we want the first \n",
    "            # element of the subarray, not the element before it.\n",
    "            #\n",
    "            # 'i' gives the end index of the subarray:\n",
    "            # It's the current index in the loop, where the \n",
    "            # subarray ends as the cumulative sum up to this \n",
    "            # index equals the target when we subtract the sum at \n",
    "            # the start of the subarray.\n",
    "            return [sum_index[current_sum - target] + 1, i]\n",
    " \n",
    "        # If no subarray sum has been found, store the current \n",
    "        # running sum and its corresponding index.\n",
    "        sum_index[current_sum] = i\n",
    "    \n",
    "    # If no subarray sum is found after iterating through the \n",
    "    # entire list, return an empty list.\n",
    "    return []\n"
   ]
  },
  {
   "attachments": {},
   "cell_type": "markdown",
   "metadata": {},
   "source": [
    "Sets are like dictionaries but with only keys"
   ]
  },
  {
   "cell_type": "code",
   "execution_count": 76,
   "metadata": {},
   "outputs": [],
   "source": [
    "# Create a set using {}\n",
    "my_set = {1, 2, 3, 4, 5}\n",
    " \n",
    "# Create a set using set()\n",
    "my_set = set([1, 2, 3, 4, 5])\n",
    "# Add an element to a set\n",
    "# If the number 6 is already in the set it will not be added again.\n",
    "my_set.add(6)\n",
    " \n",
    "# Update is used to add multiple elements to the set at once. \n",
    "# It takes an iterable object (e.g., list, tuple, set) as an \n",
    "# argument and adds all its elements to the set. \n",
    "# If any of the elements already exist in the set, \n",
    "# they are not added again.\n",
    "my_set.update([3, 4, 5, 6])\n",
    " \n",
    "# Removing an element from a set\n",
    "my_set.remove(3)\n",
    " \n",
    "# Union of two sets\n",
    "other_set = {3, 4, 5, 6}\n",
    "union_set = my_set.union(other_set)\n",
    " \n",
    "# Intersection of two sets\n",
    "intersection_set = my_set.intersection(other_set)\n",
    " \n",
    "# Difference between two sets\n",
    "difference_set = my_set.difference(other_set)\n",
    " \n",
    "# Checking if an element is in a set\n",
    "if \"hello\" in my_set:\n",
    "    print(\"Found hello in my_set\")"
   ]
  },
  {
   "cell_type": "code",
   "execution_count": 77,
   "metadata": {},
   "outputs": [],
   "source": [
    "def remove_duplicates(my_list):\n",
    "    my_set = set()\n",
    "    my_set.update(my_list)\n",
    "    l = []\n",
    "    for i in my_set:\n",
    "        l.append(i)\n",
    "    return l"
   ]
  },
  {
   "cell_type": "code",
   "execution_count": 78,
   "metadata": {},
   "outputs": [],
   "source": [
    "def has_unique_chars(string):\n",
    "    l = []\n",
    "    for i in string:\n",
    "        l.append(i)\n",
    "    my_set = set(l)\n",
    "    if len(my_set) == len(l):\n",
    "        return True\n",
    "    else:\n",
    "        return False"
   ]
  },
  {
   "cell_type": "code",
   "execution_count": 79,
   "metadata": {},
   "outputs": [
    {
     "name": "stdout",
     "output_type": "stream",
     "text": [
      "[(5, 2), (3, 4), (1, 6)]\n"
     ]
    }
   ],
   "source": [
    "def find_pairs(arr1,arr2,target):\n",
    "    b = [target - i for i in arr1]\n",
    "    set1 = set(b)\n",
    "    set2 = set(arr2)\n",
    "    a = []\n",
    "    for i in set1:\n",
    "        if i in set2:\n",
    "            a.append(((i - target)*(-1), i))\n",
    "    return a\n",
    "\n",
    "arr1 = [1, 2, 3, 4, 5]\n",
    "arr2 = [2, 4, 6, 8, 10]\n",
    "target = 7\n",
    "\n",
    "pairs = find_pairs(arr1, arr2, target)\n",
    "print (pairs)\n",
    "\n"
   ]
  },
  {
   "cell_type": "code",
   "execution_count": 80,
   "metadata": {},
   "outputs": [],
   "source": [
    "def longest_consecutive_sequence(nums):\n",
    "    # Create a set to keep track of the numbers in the array\n",
    "    num_set = set(nums)\n",
    "    longest_sequence = 0\n",
    "    \n",
    "    # Loop through the numbers in the nums array\n",
    "    for num in nums:\n",
    "        # Check if the current number is the start of a new sequence\n",
    "        if num - 1 not in num_set:\n",
    "            current_num = num\n",
    "            current_sequence = 1\n",
    "            \n",
    "            # Keep incrementing the current number until the end of the sequence is reached\n",
    "            while current_num + 1 in num_set:\n",
    "                current_num += 1\n",
    "                current_sequence += 1\n",
    "            \n",
    "            # Update the longest sequence if the current sequence is longer\n",
    "            longest_sequence = max(longest_sequence, current_sequence)\n",
    "    \n",
    "    return longest_sequence\n",
    "\n",
    "        \n"
   ]
  },
  {
   "attachments": {},
   "cell_type": "markdown",
   "metadata": {},
   "source": [
    "Graphs"
   ]
  },
  {
   "cell_type": "code",
   "execution_count": 81,
   "metadata": {},
   "outputs": [],
   "source": [
    "class Graph:\n",
    "    def __init__(self):\n",
    "        self.adj_list = {}\n",
    "    def print_graph(self):\n",
    "        for vertex in self.adj_list:\n",
    "            print(vertex,':',self.adj_list[vertex])\n",
    "    def add_vertex(self,vertex):\n",
    "        if vertex  not in self.adj_list.keys():\n",
    "            self.adj_list[vertex] = []\n",
    "            return True\n",
    "        return False\n",
    "    def add_edge(self, v1,v2):\n",
    "        if v1 in self.adj_list.keys() and v2 in self.adj_list.keys():\n",
    "            self.adj_list[v1].append(v2)\n",
    "            self.adj_list[v2].append(v1)\n",
    "            return True\n",
    "        return False\n",
    "    def remove_edge(self,v1,v2):\n",
    "        if v1 in self.adj_list.keys() and v2 in self.adj_list.keys():\n",
    "            try:\n",
    "                self.adj_list[v1].remove(v2)\n",
    "                self.adj_list[v2].remove(v1)\n",
    "            except ValueError:\n",
    "                pass\n",
    "            return True\n",
    "        return False\n",
    "    def remove_vertex(self,v1):\n",
    "        if v1 in self.adj_list.keys():\n",
    "            for other_vertex in self.adj_list[v1]:\n",
    "                self.adj_list[other_vertex].remove(v1)\n",
    "            del self.adj_list[v1]\n",
    "            return True\n",
    "        return False\n",
    "    \n",
    "        \n"
   ]
  },
  {
   "cell_type": "code",
   "execution_count": 82,
   "metadata": {},
   "outputs": [
    {
     "name": "stdout",
     "output_type": "stream",
     "text": [
      "A : []\n"
     ]
    }
   ],
   "source": [
    "g = Graph()\n",
    "g.add_vertex('A')\n",
    "g.print_graph()"
   ]
  },
  {
   "cell_type": "code",
   "execution_count": 83,
   "metadata": {},
   "outputs": [
    {
     "name": "stdout",
     "output_type": "stream",
     "text": [
      "1 : [2]\n",
      "2 : [1]\n"
     ]
    }
   ],
   "source": [
    "g = Graph()\n",
    "g.add_vertex(1)\n",
    "g.add_vertex(2)\n",
    "g.add_edge(1,2)\n",
    "g.print_graph()"
   ]
  },
  {
   "cell_type": "code",
   "execution_count": 84,
   "metadata": {},
   "outputs": [
    {
     "name": "stdout",
     "output_type": "stream",
     "text": [
      "A : ['C']\n",
      "B : ['C']\n",
      "C : ['A', 'B']\n",
      "D : []\n"
     ]
    }
   ],
   "source": [
    "g = Graph()\n",
    "g.add_vertex('A')\n",
    "g.add_vertex('B')\n",
    "g.add_vertex('C')\n",
    "g.add_vertex('D')\n",
    "\n",
    "g.add_edge('A','B')\n",
    "g.add_edge('A','C')\n",
    "g.add_edge('B','C')\n",
    "\n",
    "g.remove_edge('A','B')\n",
    "g.remove_edge('A','D')\n",
    "g.print_graph()"
   ]
  },
  {
   "cell_type": "code",
   "execution_count": 85,
   "metadata": {},
   "outputs": [
    {
     "name": "stdout",
     "output_type": "stream",
     "text": [
      "A : ['B', 'C', 'D']\n",
      "B : ['A', 'D']\n",
      "C : ['A', 'D']\n",
      "D : ['A', 'B', 'C']\n",
      "\n",
      "\n",
      "A : ['B', 'C']\n",
      "B : ['A']\n",
      "C : ['A']\n"
     ]
    }
   ],
   "source": [
    "g = Graph()\n",
    "g.add_vertex('A')\n",
    "g.add_vertex('B')\n",
    "g.add_vertex('C')\n",
    "g.add_vertex('D')\n",
    "\n",
    "g.add_edge('A','B')\n",
    "g.add_edge('A','C')\n",
    "g.add_edge('A','D')\n",
    "g.add_edge('B','D')\n",
    "g.add_edge('C','D')\n",
    "\n",
    "g.print_graph()\n",
    "print('\\n')\n",
    "g.remove_vertex('D')\n",
    "g.print_graph()\n",
    "\n",
    "\n"
   ]
  }
 ],
 "metadata": {
  "kernelspec": {
   "display_name": "base",
   "language": "python",
   "name": "python3"
  },
  "language_info": {
   "codemirror_mode": {
    "name": "ipython",
    "version": 3
   },
   "file_extension": ".py",
   "mimetype": "text/x-python",
   "name": "python",
   "nbconvert_exporter": "python",
   "pygments_lexer": "ipython3",
   "version": "3.9.12"
  },
  "orig_nbformat": 4
 },
 "nbformat": 4,
 "nbformat_minor": 2
}
